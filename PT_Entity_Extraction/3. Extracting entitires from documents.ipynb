{
 "cells": [
  {
   "cell_type": "code",
   "execution_count": 128,
   "metadata": {},
   "outputs": [],
   "source": [
    "import spacy\n",
    "import re\n",
    "\n",
    "from typing import List, Tuple\n",
    "from nltk.corpus import stopwords as StopWords"
   ]
  },
  {
   "cell_type": "code",
   "execution_count": 129,
   "metadata": {},
   "outputs": [],
   "source": [
    "nlp = spacy.load(\"pt_core_news_sm\")"
   ]
  },
  {
   "cell_type": "code",
   "execution_count": 242,
   "metadata": {},
   "outputs": [],
   "source": [
    "REGEX_TO_SPLIT_DOCUMENTS = \"(O|A)+\\s+Sr(\\.|\\.º|\\.ª)\\s+([A-zÀ-ú]|\\s*)+(\\(.*\\))?: —\"\n",
    "\n",
    "\n",
    "deputies_docs_unprocessed = {}\n",
    "documents_unprocessed_idx = {}\n",
    "documents_to_deputies = {}\n",
    "\n",
    "doc_idx = 0\n",
    "did_first_match = False\n",
    "\n",
    "with open(\"resources/example_of_parlamentar_discussion/darl14sl02n014.txt\") as file:\n",
    "    \n",
    "    first_line = next(file)\n",
    "    DATE_SECTION_REGEX = \"(?i)\\d+ de (\\w+) de \\d{4}\"\n",
    "    romanic_number = \"(?=[MDCLXVI])M*(C[MD]|D?C{0,3})(X[CL]|L?X{0,3})(I[XV]|V?I{0,3})\"\n",
    "    SERIES_SECTION_REGEX = romanic_number + \" (Série|SÉRIE) — (Número|NÚMERO) \\d{1,3}\"\n",
    "    \n",
    "    \n",
    "    pattern = re.compile(REGEX_TO_SPLIT_DOCUMENTS)\n",
    "    date_section_pattern = re.compile(DATE_SECTION_REGEX)\n",
    "    series_section_pattern = re.compile(SERIES_SECTION_REGEX)\n",
    "    numberic_pattern = re.compile(\"\\d+\")\n",
    "    \n",
    "    current_docs = \"\"\n",
    "    current_deputy = None\n",
    "    \n",
    "    for line in file:\n",
    "        date_section_match = date_section_pattern.search(line)\n",
    "        series_section_match = series_section_pattern.search(line)\n",
    "        if date_section_match is not None or series_section_match is not None:\n",
    "            #we are in a section, let's consume until a number appear\n",
    "            line_is_page_number = False\n",
    "            while not line_is_page_number:\n",
    "                #check if line is number\n",
    "                #if it is, then line_is_page_number = True\n",
    "                line = next(file)\n",
    "                numeric_match = numberic_pattern.search(line)\n",
    "                if numeric_match is not None:\n",
    "                    line_is_page_number = True\n",
    "                    line = next(file)\n",
    "        match = pattern.search(line)\n",
    "        if match is not None:\n",
    "            #a new document\n",
    "            #is this the first one? if it is, then we already consumed the summary section\n",
    "            if current_deputy is not None:\n",
    "                #save current document\n",
    "                documents_unprocessed_idx[doc_idx] = current_docs\n",
    "                if current_deputy not in deputies_docs_unprocessed:\n",
    "                    deputies_docs_unprocessed[current_deputy] = []\n",
    "                deputies_docs_unprocessed[current_deputy].append(doc_idx)\n",
    "                documents_to_deputies[doc_idx] = current_deputy\n",
    "                doc_idx += 1\n",
    "            #docs stored. start processing new one\n",
    "            current_deputy = match.group()[0:-3]\n",
    "            current_docs = line.replace(current_deputy, '')\n",
    "        else:\n",
    "            current_docs += line\n",
    "    if current_deputy is not None:\n",
    "                #save current document\n",
    "                documents_unprocessed_idx[doc_idx] = re.sub(' +',' ',current_docs.replace('\\n',' '))\n",
    "                if current_deputy not in deputies_docs_unprocessed:\n",
    "                    deputies_docs_unprocessed[current_deputy] = []\n",
    "                deputies_docs_unprocessed[current_deputy].append(doc_idx)\n",
    "                documents_to_deputies[doc_idx] = current_deputy\n",
    "                doc_idx += 1\n",
    "\n",
    "                "
   ]
  },
  {
   "cell_type": "code",
   "execution_count": 243,
   "metadata": {},
   "outputs": [],
   "source": [
    "pt_stop_words = StopWords.words('portuguese')\n",
    "\n",
    "def parse_entities(document: str) -> List[str]:\n",
    "    nlp_doc = nlp(document)\n",
    "    return [re.sub(' +', ' ', ent.text.replace(\"\\n\",\" \")) for ent in nlp_doc.ents]\n",
    "    "
   ]
  },
  {
   "cell_type": "code",
   "execution_count": 244,
   "metadata": {},
   "outputs": [],
   "source": [
    "documents_processed_entities = {}\n",
    "\n",
    "for idx in documents_unprocessed_idx:\n",
    "    documents_processed_entities[idx] = parse_entities(documents_unprocessed_idx[idx])\n",
    "\n",
    "entities_corpus = list(documents_processed_entities.values())"
   ]
  },
  {
   "cell_type": "code",
   "execution_count": 245,
   "metadata": {},
   "outputs": [],
   "source": [
    "docs_to_be_removed = []\n",
    "for idx in documents_processed_entities.keys():\n",
    "    if len(documents_processed_entities[idx]) == 0:\n",
    "        docs_to_be_removed.append(idx)\n",
    "        deputies_docs_unprocessed[documents_to_deputies[idx]].remove(idx)\n",
    "        del documents_to_deputies[idx]\n",
    "\n",
    "for el in sorted(docs_to_be_removed, reverse=True):\n",
    "    del documents_processed_entities[el]\n",
    "    \n",
    "entities_corpus = list(documents_processed_entities.values())"
   ]
  },
  {
   "cell_type": "code",
   "execution_count": 246,
   "metadata": {},
   "outputs": [
    {
     "name": "stdout",
     "output_type": "stream",
     "text": [
      "My vocabolary size is 444\n"
     ]
    }
   ],
   "source": [
    "entities_corpus_idf_search = list(map(set, entities_corpus))\n",
    "\n",
    "vocab = set()\n",
    "\n",
    "for doc in entities_corpus:\n",
    "    vocab = vocab.union(set(doc))  \n",
    "\n",
    "print(f\"My vocabolary size is {len(vocab)}\")"
   ]
  },
  {
   "cell_type": "code",
   "execution_count": 247,
   "metadata": {},
   "outputs": [],
   "source": [
    "import math\n",
    "\n",
    "idfvocab = {}\n",
    "\n",
    "def idf(term, corpus):\n",
    "    cnt =  sum([1 if term in doc else 0 for doc in corpus])\n",
    "    return math.log10( len(corpus) / cnt )\n",
    "\n",
    "for term in vocab:\n",
    "    term_idf = idf(term, entities_corpus_idf_search)\n",
    "    idfvocab[term] = term_idf"
   ]
  },
  {
   "cell_type": "code",
   "execution_count": 248,
   "metadata": {},
   "outputs": [
    {
     "name": "stdout",
     "output_type": "stream",
     "text": [
      "Min is 0.47921424422550624 and max is 2.3180633349627615\n"
     ]
    }
   ],
   "source": [
    "import numpy as np\n",
    "\n",
    "idfvocab_it = [(el[0],el[1]) for el in idfvocab.items()]\n",
    "\n",
    "aux = np.array( idfvocab_it )\n",
    "low = float( min( aux[:,1] ) )\n",
    "high = float( max( aux[:,1] ) )\n",
    "\n",
    "print(f\"Min is {low} and max is {high}\")"
   ]
  },
  {
   "cell_type": "code",
   "execution_count": 249,
   "metadata": {},
   "outputs": [],
   "source": [
    "vc = np.array(idfvocab_it) #a matrix, with column 0 being terms and column 1 being idf\n",
    "vc_terms = vc[:,0]"
   ]
  },
  {
   "cell_type": "code",
   "execution_count": 250,
   "metadata": {},
   "outputs": [],
   "source": [
    "def normTFx(term,doc):\n",
    "    return doc.count(term)/len(doc)\n",
    "\n",
    "def tfidfmat(corpus, tl, idfvocab) :\n",
    "    mat =[]\n",
    "    for term in tl :\n",
    "        idft = idfvocab[term]\n",
    "        row = []\n",
    "        for doc in corpus:\n",
    "            tft = normTFx(term,doc)\n",
    "            tf_idf_term_document = tft*idft\n",
    "            row.append(tf_idf_term_document)\n",
    "        mat.append(row)\n",
    "    return mat    \n",
    "            \n",
    "    \n",
    "\n",
    "tfidf_matrix = tfidfmat(entities_corpus, vc_terms, idfvocab) \n",
    "tfidf_matrix_np = np.array(tfidf_matrix)"
   ]
  },
  {
   "cell_type": "code",
   "execution_count": 251,
   "metadata": {},
   "outputs": [
    {
     "data": {
      "text/plain": [
       "(444, 208)"
      ]
     },
     "execution_count": 251,
     "metadata": {},
     "output_type": "execute_result"
    }
   ],
   "source": [
    "tfidf_matrix_np.shape"
   ]
  },
  {
   "cell_type": "code",
   "execution_count": 260,
   "metadata": {},
   "outputs": [
    {
     "name": "stdout",
     "output_type": "stream",
     "text": [
      "O Sr. André Ventura (CH)\n",
      "Sr. Deputado João Cotrim de Figueiredo - 0.92\n",
      "Sr. Presidente - 0.24\n"
     ]
    }
   ],
   "source": [
    "def print_entities(idx_entities_scored: List[Tuple[int, float]]):\n",
    "    for idx, score in idx_entities_scored:\n",
    "        print(f\"{vc_terms[idx]} - {round(score,3)}\")\n",
    "\n",
    "def column_in_tfidf_of_document_with_index(document_index):\n",
    "    return list(documents_processed_entities.keys()).index(document_index)\n",
    "        \n",
    "def print_info_for_document(document_idx):\n",
    "    print(documents_to_deputies[document_idx])\n",
    "    column_idx = column_in_tfidf_of_document_with_index(document_idx)\n",
    "    print_entities(list(filter(lambda x: x[1] > 0, sorted(enumerate(tfidf_matrix_np[:,column_idx].tolist()), key=lambda x: x[1], reverse=True))))\n",
    "        \n",
    "print_info_for_document(deputies_docs_unprocessed[\"O Sr. André Ventura (CH)\"][12])"
   ]
  },
  {
   "cell_type": "code",
   "execution_count": 178,
   "metadata": {},
   "outputs": [],
   "source": [
    "assert len(list(documents_processed_entities.keys())) == len(documents_to_deputies)"
   ]
  },
  {
   "cell_type": "code",
   "execution_count": 259,
   "metadata": {},
   "outputs": [
    {
     "data": {
      "text/plain": [
       "': — Sr. Presidente, eu e o Sr. Deputado João Cotrim de Figueiredo temos \\n\\npermanentemente a indicação de que temos de usar máscara… \\n\\n\\n\\n'"
      ]
     },
     "execution_count": 259,
     "metadata": {},
     "output_type": "execute_result"
    }
   ],
   "source": [
    "documents_unprocessed_idx[deputies_docs_unprocessed[\"O Sr. André Ventura (CH)\"][12]]"
   ]
  },
  {
   "cell_type": "code",
   "execution_count": null,
   "metadata": {},
   "outputs": [],
   "source": [
    "# Talvez usar tf-idf mas com lemmas em vez de stemmer?"
   ]
  },
  {
   "cell_type": "code",
   "execution_count": null,
   "metadata": {},
   "outputs": [],
   "source": []
  },
  {
   "cell_type": "code",
   "execution_count": null,
   "metadata": {},
   "outputs": [],
   "source": []
  },
  {
   "cell_type": "code",
   "execution_count": 12,
   "metadata": {},
   "outputs": [
    {
     "name": "stdout",
     "output_type": "stream",
     "text": [
      "A A DET DET__Definite=Def|Gender=Fem|Number=Sing|PronType=Art det X True False\n",
      "Apple Apple PROPN PROPN__Gender=Fem|Number=Sing nsubj Xxxxx True False\n",
      "está estar VERB VERB__Mood=Ind|Number=Sing|Person=3|Tense=Pres|VerbForm=Fin ROOT xxxx True True\n",
      "a o SCONJ SCONJ mark x True False\n",
      "ponderar ponderar VERB VERB__VerbForm=Inf xcomp xxxx True False\n",
      "comprar comprar VERB VERB__VerbForm=Inf xcomp xxxx True False\n",
      "a o DET DET__Definite=Def|Gender=Fem|Number=Sing|PronType=Art det x True False\n",
      "startup startup NOUN NOUN__Gender=Fem|Number=Sing obj xxxx True False\n",
      "do do DET ADP_DET__Definite=Def|Gender=Masc|Number=Sing|PronType=Art case xx True True\n",
      "Reino Reino PROPN PROPN__Gender=Masc|Number=Sing nmod Xxxxx True False\n",
      "Unido Unido PROPN PROPN__Number=Sing flat:name Xxxxx True False\n",
      "por por ADP ADP case xxx True True\n",
      "1 1 NUM NUM__NumType=Card obl d False False\n",
      "milhão milhão NUM NUM__NumType=Card flat xxxx True False\n",
      "de de ADP ADP case xx True True\n",
      "dolares dolares NOUN NOUN__Gender=Masc|Number=Plur nmod xxxx True False\n"
     ]
    }
   ],
   "source": [
    "for token in doc:\n",
    "    print(token.text, token.lemma_, token.pos_, token.tag_, token.dep_,\n",
    "            token.shape_, token.is_alpha, token.is_stop)"
   ]
  },
  {
   "cell_type": "code",
   "execution_count": 11,
   "metadata": {},
   "outputs": [
    {
     "name": "stdout",
     "output_type": "stream",
     "text": [
      "Apple 2 7 ORG\n",
      "Reino Unido 45 56 LOC\n"
     ]
    }
   ],
   "source": [
    "for ent in doc.ents:\n",
    "    print(ent.text, ent.start_char, ent.end_char, ent.label_)"
   ]
  },
  {
   "cell_type": "code",
   "execution_count": 17,
   "metadata": {},
   "outputs": [],
   "source": [
    "def print_entities(doc):\n",
    "    for ent in doc.ents:\n",
    "        print(ent.text, ent.start_char, ent.end_char, ent.label_)\n",
    "\n",
    "def print_tokens(doc):\n",
    "    for token in doc:\n",
    "        print(token.text, token.lemma_, token.pos_, token.tag_, token.dep_,\n",
    "            token.shape_, token.is_alpha, token.is_stop)"
   ]
  },
  {
   "cell_type": "code",
   "execution_count": 19,
   "metadata": {},
   "outputs": [
    {
     "name": "stdout",
     "output_type": "stream",
     "text": [
      "Presidente 2 12 MISC\n"
     ]
    }
   ],
   "source": [
    "doc_test = nlp(\"O Presidente declarou aberta a sessão às 15 horas e 2 minutos.\")\n",
    "print_entities(doc_test)"
   ]
  },
  {
   "cell_type": "code",
   "execution_count": 27,
   "metadata": {},
   "outputs": [
    {
     "name": "stdout",
     "output_type": "stream",
     "text": [
      "Sr. Presidente 0 14 PER\n",
      "Sr. Deputado José Luís Ferreira 101 132 PER\n",
      "Partido Socialista 151 169 ORG\n",
      "PS 458 460 ORG\n",
      "Sr. Deputado João Dias 462 484 PER\n",
      "Sr. 1091 1094 PER\n",
      "Governo 1163 1170 LOC\n",
      "Sr. Deputado 1231 1243 PER\n",
      "Governo 1290 1297 LOC\n",
      "**********\n",
      "Sr. Sr. NOUN NOUN__Gender=Masc|Number=Sing punct Xx. False False\n",
      "Presidente Presidente NOUN NOUN__Gender=Masc|Number=Sing ROOT Xxxxx True False\n",
      ", , PUNCT PUNCT punct , False False\n",
      "passo passar VERB VERB__Mood=Ind|Number=Sing|Person=1|Tense=Pres|VerbForm=Fin appos xxxx True False\n",
      "a o SCONJ SCONJ mark x True False\n",
      "responder responder VERB VERB__VerbForm=Inf advcl xxxx True False\n",
      "a o ADP ADP case x True False\n",
      "este este DET DET__Gender=Masc|Number=Sing|PronType=Dem det xxxx True True\n",
      "lote lotar NOUN NOUN__Gender=Masc|Number=Sing obj xxxx True False\n",
      "de de ADP ADP case xx True True\n",
      "três três NUM NUM__NumType=Card nummod xxxx True True\n",
      "perguntas perguntar NOUN NOUN__Gender=Fem|Number=Plur nmod xxxx True False\n",
      ", , PUNCT PUNCT punct , False False\n",
      "as o DET DET__Gender=Fem|Number=Plur|PronType=Art det xx True True\n",
      "quais qual PRON PRON__Gender=Fem|Number=Plur|PronType=Rel nsubj xxxx True True\n",
      "agradecemos agradecer VERB VERB__Mood=Ind|Number=Plur|Person=1|Tense=Past|VerbForm=Fin conj xxxx True False\n",
      ", , PUNCT PUNCT punct , False False\n",
      "como comer ADV ADV advmod xxxx True True\n",
      "é ser AUX AUX__Mood=Ind|Number=Sing|Person=3|Tense=Pres|VerbForm=Fin cop x True True\n",
      "óbvio óbvio ADJ ADJ__Gender=Masc|Number=Sing acl:relcl xxxx True False\n",
      ". . PUNCT PUNCT punct . False False\n",
      "Sr. Sr. NOUN NOUN__Gender=Masc|Number=Sing punct Xx. False False\n",
      "Deputado Deputado PROPN PROPN__Gender=Masc|Number=Sing obl Xxxxx True False\n",
      "José José PROPN PROPN__Gender=Masc|Number=Sing flat:name Xxxx True False\n",
      "Luís Luís PROPN PROPN__Number=Sing flat:name Xxxx True False\n",
      "Ferreira Ferreira PROPN PROPN__Number=Sing flat:name Xxxxx True False\n",
      ", , PUNCT PUNCT punct , False False\n",
      "obviamente obviamente ADV ADV advmod xxxx True False\n",
      "que que SCONJ SCONJ mark xxx True True\n",
      "o o DET DET__Definite=Def|Gender=Masc|Number=Sing|PronType=Art det x True False\n",
      "Partido Partido PROPN PROPN__Gender=Masc|Number=Sing nsubj Xxxxx True False\n",
      "Socialista Socialista PROPN PROPN__Number=Sing flat:name Xxxxx True False\n",
      "considera considerar VERB VERB__Mood=Ind|Number=Sing|Person=3|Tense=Pres|VerbForm=Fin ROOT xxxx True False\n",
      "a o DET DET__Definite=Def|Gender=Fem|Number=Sing|PronType=Art det x True False\n",
      "agricultura agricultura NOUN NOUN__Gender=Fem|Number=Sing obj xxxx True False\n",
      "familiar familiar ADJ ADJ__Gender=Fem|Number=Sing amod xxxx True False\n",
      "como comer ADP ADP case xxxx True True\n",
      "um um DET DET__Definite=Ind|Gender=Masc|Number=Sing|PronType=Art det xx True True\n",
      "fator fator NOUN NOUN__Gender=Masc|Number=Sing xcomp xxxx True False\n",
      "de de ADP ADP case xx True True\n",
      "desenvolvimento desenvolvimento NOUN NOUN__Gender=Masc|Number=Sing nmod xxxx True False\n",
      "dos dos ADP ADP_DET__Definite=Def|Gender=Masc|Number=Plur|PronType=Art case xxx True True\n",
      "territórios território NOUN NOUN__Gender=Masc|Number=Plur nmod xxxx True False\n",
      "de de ADP ADP case xx True True\n",
      "baixa baixo ADJ ADJ__Gender=Fem|Number=Sing amod xxxx True False\n",
      "densidade densidade NOUN NOUN__Gender=Fem|Number=Sing nmod xxxx True False\n",
      "e e CCONJ CCONJ cc x True False\n",
      "olha olhar VERB VERB__Mood=Ind|Number=Sing|Person=3|Tense=Pres|VerbForm=Fin conj xxxx True False\n",
      "para parir ADP ADP case xxxx True True\n",
      "esta este DET DET__Gender=Fem|Number=Sing|PronType=Dem det xxxx True True\n",
      "vertente vertente NOUN NOUN__Gender=Masc|Number=Sing obl xxxx True False\n",
      "da da DET ADP_DET__Definite=Def|Gender=Fem|Number=Sing|PronType=Art case xx True True\n",
      "agricultura agricultura NOUN NOUN__Gender=Fem|Number=Sing nmod xxxx True False\n",
      "como comer ADP ADP case xxxx True True\n",
      "aquela aquele PRON PRON__Gender=Fem|Number=Sing|PronType=Dem nmod xxxx True True\n",
      "que que PRON PRON__Gender=Fem|Number=Sing|PronType=Rel nsubj xxx True True\n",
      "é ser AUX AUX__Mood=Ind|Number=Sing|Person=3|Tense=Pres|VerbForm=Fin cop x True True\n",
      "a o DET DET__Definite=Def|Gender=Fem|Number=Sing|PronType=Art acl:relcl x True False\n",
      "mais mais ADV ADV advmod xxxx True True\n",
      "genuína genuíno NOUN NOUN__Gender=Fem|Number=Sing amod xxxx True False\n",
      "das das DET ADP_DET__Definite=Def|Gender=Fem|Number=Plur|PronType=Art case xxx True True\n",
      "formas formar NOUN NOUN__Gender=Fem|Number=Plur nmod xxxx True False\n",
      "de de ADP ADP case xx True True\n",
      "agricultura agricultura NOUN NOUN__Gender=Fem|Number=Sing nmod xxxx True False\n",
      "e e CCONJ CCONJ cc x True False\n",
      "que que PRON PRON__Gender=Fem|Number=Sing|PronType=Rel nsubj:pass xxx True True\n",
      "tem ter VERB VERB__Mood=Ind|Number=Sing|Person=3|Tense=Pres|VerbForm=Fin conj xxx True True\n",
      "de de SCONJ SCONJ mark xx True True\n",
      "ser ser AUX AUX__VerbForm=Inf aux:pass xxx True True\n",
      ", , PUNCT PUNCT punct , False False\n",
      "obviamente obviamente ADV ADV advmod xxxx True False\n",
      ", , PUNCT PUNCT punct , False False\n",
      "valorizada valorizar VERB VERB__Gender=Fem|Number=Sing|VerbForm=Part xcomp xxxx True False\n",
      "no o DET ADP_DET__Definite=Def|Gender=Masc|Number=Sing|PronType=Art case xx True True\n",
      "contexto contexto NOUN NOUN__Gender=Masc|Number=Sing obl xxxx True False\n",
      "do do DET ADP_DET__Definite=Def|Gender=Masc|Number=Sing|PronType=Art case xx True True\n",
      "panorama panorama NOUN NOUN__Gender=Masc|Number=Sing nmod xxxx True False\n",
      "nacional nacional ADJ ADJ__Gender=Masc|Number=Sing amod xxxx True False\n",
      ". . PUNCT PUNCT punct . False False\n",
      "Aplausos Aplausos NOUN NOUN__Gender=Masc|Number=Plur ROOT Xxxxx True False\n",
      "do do DET ADP_DET__Definite=Def|Gender=Masc|Number=Sing|PronType=Art case xx True True\n",
      "PS PS PROPN PROPN__Gender=Masc|Number=Sing nmod XX True False\n",
      ". . PUNCT PUNCT punct . False False\n",
      "Sr. Sr. NOUN NOUN__Gender=Masc|Number=Sing punct Xx. False False\n",
      "Deputado Deputado PROPN PROPN__Gender=Masc|Number=Sing dep Xxxxx True False\n",
      "João João PROPN PROPN__Gender=Masc|Number=Sing flat:name Xxxx True False\n",
      "Dias Dias PROPN PROPN__Number=Sing flat:name Xxxx True False\n",
      ", , PUNCT PUNCT punct , False False\n",
      "se se SCONJ SCONJ mark xx True True\n",
      "me me PRON PRON__Case=Dat|Gender=Unsp|Number=Sing|Person=1|PronType=Prs obj xx True True\n",
      "permite permitir VERB VERB__Mood=Ind|Number=Sing|Person=3|Tense=Pres|VerbForm=Fin advcl xxxx True False\n",
      ", , PUNCT PUNCT punct , False False\n",
      "este este PRON PRON__Gender=Masc|Number=Sing|PronType=Dem nsubj xxxx True True\n",
      "é ser VERB VERB__Mood=Ind|Number=Sing|Person=3|Tense=Pres|VerbForm=Fin ROOT x True True\n",
      "que que SCONJ SCONJ fixed xxx True True\n",
      "é ser AUX AUX__Mood=Ind|Number=Sing|Person=3|Tense=Pres|VerbForm=Fin cop x True True\n",
      "o o DET DET__Definite=Def|Gender=Masc|Number=Sing|PronType=Art det x True False\n",
      "ponto pontar NOUN NOUN__Gender=Masc|Number=Sing ccomp xxxx True True\n",
      ": : PUNCT PUNCT punct : False False\n",
      "não não ADV ADV__Polarity=Neg advmod xxx True True\n",
      "podemos poder VERB VERB__Mood=Ind|Number=Plur|Person=1|Tense=Pres|VerbForm=Fin parataxis xxxx True False\n",
      "colocar colocar VERB VERB__VerbForm=Inf xcomp xxxx True False\n",
      "uma umar NUM NUM__NumType=Card obj xxx True True\n",
      "das das DET ADP_DET__Definite=Def|Gender=Fem|Number=Plur|PronType=Art case xxx True True\n",
      "questões questão NOUN NOUN__Gender=Fem|Number=Plur nmod xxxx True False\n",
      "que que PRON PRON__Gender=Fem|Number=Plur|PronType=Rel nsubj xxx True True\n",
      "é ser VERB VERB__Mood=Ind|Number=Sing|Person=3|Tense=Pres|VerbForm=Fin cop x True True\n",
      "para parir ADP ADP case xxxx True True\n",
      "nós nó PRON PRON__Gender=Masc|Number=Plur|Person=1|PronType=Prs acl:relcl xxx True True\n",
      "importante importante ADJ ADJ__Gender=Fem|Number=Sing amod xxxx True False\n",
      "para parir SCONJ SCONJ mark xxxx True True\n",
      "desenvolver desenvolver VERB VERB__VerbForm=Inf advcl xxxx True False\n",
      "os o DET DET__Definite=Def|Gender=Masc|Number=Plur|PronType=Art det xx True True\n",
      "territórios território NOUN NOUN__Gender=Masc|Number=Plur obj xxxx True False\n",
      "de de ADP ADP case xx True True\n",
      "baixa baixo ADJ ADJ__Gender=Fem|Number=Sing amod xxxx True False\n",
      "densidade densidade NOUN NOUN__Gender=Fem|Number=Sing nmod xxxx True False\n",
      "como comer SCONJ SCONJ mark xxxx True True\n",
      "se se SCONJ SCONJ fixed xx True True\n",
      "fosse ser AUX AUX__Mood=Sub|Number=Sing|Person=3|Tense=Imp|VerbForm=Fin cop xxxx True False\n",
      "a o DET DET__Definite=Def|Gender=Fem|Number=Sing|PronType=Art det x True False\n",
      "única único ADJ ADJ__Gender=Fem|Number=Sing advcl xxxx True False\n",
      ", , PUNCT PUNCT punct , False False\n",
      "só só ADV ADV advmod xx True True\n",
      "e e CCONJ CCONJ cc x True False\n",
      "ela ele PRON PRON__Case=Nom|Gender=Fem|Number=Sing|Person=3|PronType=Prs conj xxx True True\n",
      "mesma mesmo ADJ ADJ__Gender=Fem|Number=Sing amod xxxx True False\n",
      "a o DET DET__Definite=Def|Gender=Fem|Number=Sing|PronType=Art det x True False\n",
      "responsável responsável NOUN NOUN__Gender=Fem|Number=Sing obl xxxx True False\n",
      "pelo pelar DET ADP_DET__Definite=Def|Gender=Masc|Number=Sing|PronType=Art case xxxx True True\n",
      "desenvolvimento desenvolvimento NOUN NOUN__Gender=Masc|Number=Sing nmod xxxx True False\n",
      "económico económico ADJ ADJ__Gender=Masc|Number=Sing amod xxxx True False\n",
      ", , PUNCT PUNCT punct , False False\n",
      "porque porque SCONJ SCONJ mark xxxx True True\n",
      "há haver VERB VERB__Mood=Ind|Number=Sing|Person=3|Tense=Pres|VerbForm=Fin advcl xx True False\n",
      "outras outro DET DET__Gender=Fem|Number=Plur|PronType=Ind det xxxx True True\n",
      "formas formar NOUN NOUN__Gender=Fem|Number=Plur obj xxxx True False\n",
      "de de ADP ADP case xx True True\n",
      "agricultura agricultura NOUN NOUN__Gender=Fem|Number=Sing nmod xxxx True False\n",
      ", , PUNCT PUNCT punct , False False\n",
      "há haver VERB VERB__Mood=Ind|Number=Sing|Person=3|Tense=Pres|VerbForm=Fin advcl xx True False\n",
      "outras outro DET DET__Gender=Fem|Number=Plur|PronType=Ind det xxxx True True\n",
      "formas formar NOUN NOUN__Gender=Fem|Number=Plur obj xxxx True False\n",
      "de de ADP ADP case xx True True\n",
      "indústria indústria NOUN NOUN__Gender=Fem|Number=Sing nmod xxxx True False\n",
      ", , PUNCT PUNCT punct , False False\n",
      "há haver VERB VERB__Mood=Ind|Number=Sing|Person=3|Tense=Pres|VerbForm=Fin advcl xx True False\n",
      "outra outro DET DET__Gender=Fem|Number=Sing|PronType=Ind det xxxx True True\n",
      "capacidade capacidade NOUN NOUN__Gender=Fem|Number=Sing obj xxxx True False\n",
      "produtiva produtivo ADJ ADJ__Gender=Fem|Number=Sing amod xxxx True False\n",
      "que que PRON PRON__Gender=Fem|Number=Sing|PronType=Rel nsubj:pass xxx True True\n",
      "também também ADV ADV advmod xxxx True True\n",
      "tem ter VERB VERB__Mood=Ind|Number=Sing|Person=3|Tense=Pres|VerbForm=Fin acl:relcl xxx True True\n",
      "de de SCONJ SCONJ mark xx True True\n",
      "ser ser AUX AUX__VerbForm=Inf aux:pass xxx True True\n",
      "gerada gerar VERB VERB__Gender=Fem|Number=Sing|VerbForm=Part|Voice=Pass xcomp xxxx True False\n",
      "no o DET ADP_DET__Definite=Def|Gender=Masc|Number=Sing|PronType=Art case xx True True\n",
      "interior interior NOUN NOUN__Gender=Masc|Number=Sing obl xxxx True False\n",
      ". . PUNCT PUNCT punct . False False\n",
      "Há Há VERB VERB__Mood=Ind|Number=Sing|Person=3|Tense=Pres|VerbForm=Fin advcl Xx True False\n",
      "sofisticação sofisticação NOUN NOUN__Gender=Fem|Number=Sing obj xxxx True False\n",
      "que que PRON PRON__Gender=Fem|Number=Sing|PronType=Rel nsubj:pass xxx True True\n",
      "tem ter AUX AUX__Mood=Ind|Number=Sing|Person=3|Tense=Pres|VerbForm=Fin aux xxx True True\n",
      "ser ser AUX AUX__VerbForm=Inf aux:pass xxx True True\n",
      "gerada gerar VERB VERB__Gender=Fem|Number=Sing|VerbForm=Part|Voice=Pass acl:relcl xxxx True False\n",
      "no o DET ADP_DET__Definite=Def|Gender=Masc|Number=Sing|PronType=Art case xx True True\n",
      "interior interior NOUN NOUN__Gender=Masc|Number=Sing obl xxxx True False\n",
      ", , PUNCT PUNCT punct , False False\n",
      "tem ter VERB VERB__Mood=Ind|Number=Sing|Person=3|Tense=Pres|VerbForm=Fin ROOT xxx True True\n",
      "de de SCONJ SCONJ mark xx True True\n",
      "ser ser AUX AUX__VerbForm=Inf aux:pass xxx True True\n",
      "potenciada potenciar VERB VERB__Gender=Fem|Number=Sing|VerbForm=Part|Voice=Pass xcomp xxxx True False\n",
      "no o DET ADP_DET__Definite=Def|Gender=Masc|Number=Sing|PronType=Art case xx True True\n",
      "interior interior NOUN NOUN__Gender=Masc|Number=Sing obl xxxx True False\n",
      "e e CCONJ CCONJ cc x True False\n",
      "não não ADV ADV__Polarity=Neg advmod xxx True True\n",
      "podemos poder VERB VERB__Mood=Ind|Number=Plur|Person=1|Tense=Pres|VerbForm=Fin conj xxxx True False\n",
      "olhar olhar VERB VERB__VerbForm=Inf xcomp xxxx True False\n",
      "só só ADV ADV advmod xx True True\n",
      "para parir ADP ADP case xxxx True True\n",
      "metade dois NOUN NOUN__Gender=Fem|Number=Sing obj xxxx True False\n",
      "do do DET ADP_DET__Definite=Def|Gender=Masc|Number=Sing|PronType=Art case xx True True\n",
      "caminho caminhar NOUN NOUN__Gender=Masc|Number=Sing nmod xxxx True True\n",
      ", , PUNCT PUNCT punct , False False\n",
      "porque porque SCONJ SCONJ dep xxxx True True\n",
      ", , PUNCT PUNCT punct , False False\n",
      "se se SCONJ SCONJ mark xx True True\n",
      "só só ADV ADV advmod xx True True\n",
      "olharmos olhar VERB VERB__Mood=Ind|Number=Plur|Person=1|Tense=Past|VerbForm=Fin advcl xxxx True False\n",
      "para parir ADP ADP case xxxx True True\n",
      "metade dois NOUN NOUN__Gender=Fem|Number=Sing obl xxxx True False\n",
      "do do DET ADP_DET__Definite=Def|Gender=Masc|Number=Sing|PronType=Art case xx True True\n",
      "caminho caminhar NOUN NOUN__Gender=Masc|Number=Sing nmod xxxx True True\n",
      ", , PUNCT PUNCT punct , False False\n",
      "também também ADV ADV advmod xxxx True True\n",
      "defraudamos defraudar VERB VERB__Mood=Ind|Number=Plur|Person=1|Tense=Pres|VerbForm=Fin conj xxxx True False\n",
      "as o DET DET__Definite=Def|Gender=Fem|Number=Plur|PronType=Art det xx True True\n",
      "expectativas expectativa NOUN NOUN__Gender=Fem|Number=Plur obj xxxx True False\n",
      "dessas dessar ADP ADP_DET__Gender=Fem|Number=Plur|PronType=Dem case xxxx True False\n",
      "pessoas pessoa NOUN NOUN__Gender=Fem|Number=Plur nmod xxxx True False\n",
      ". . PUNCT PUNCT punct . False False\n",
      "Sr. Sr. NOUN NOUN__Gender=Masc|Number=Sing ROOT Xx. False False\n",
      "Deputado Deputado NOUN NOUN__Gender=Masc|Number=Sing ROOT Xxxxx True False\n",
      ": : PUNCT PUNCT punct : False False\n",
      "serviços serviço NOUN NOUN__Gender=Masc|Number=Plur appos xxxx True False\n",
      "públicos público ADJ ADJ__Gender=Masc|Number=Plur amod xxxx True False\n",
      "? ? PUNCT PUNCT punct ? False False\n",
      "Falemos Falemos VERB VERB__Mood=Ind|Number=Plur|Person=1|Tense=Pres|VerbForm=Fin ROOT Xxxxx True False\n",
      "dos dos ADP ADP_DET__Definite=Def|Gender=Masc|Number=Plur|PronType=Art case xxx True True\n",
      "serviços serviço NOUN NOUN__Gender=Masc|Number=Plur obj xxxx True False\n",
      "públicos público ADJ ADJ__Gender=Masc|Number=Plur amod xxxx True False\n",
      "que que PRON PRON__Gender=Masc|Number=Plur|PronType=Rel obj xxx True True\n",
      "este este DET DET__Gender=Masc|Number=Sing|PronType=Dem det xxxx True True\n",
      "Governo Governo PROPN PROPN__Gender=Masc|Number=Sing nsubj Xxxxx True False\n",
      "e e CCONJ CCONJ cc x True False\n",
      "o o DET DET__Definite=Def|Gender=Masc|Number=Sing|PronType=Art det x True False\n",
      "anterior anterior NOUN NOUN__Gender=Masc|Number=Sing amod xxxx True False\n",
      "reabriram reabrir VERB VERB__Mood=Ind|Number=Plur|Person=3|VerbForm=Fin acl:relcl xxxx True False\n",
      ". . PUNCT PUNCT punct . False False\n",
      "Não Não ADV ADV__Polarity=Neg advmod Xxx True True\n",
      "preciso precisar ADJ ADJ__Gender=Masc|Number=Sing ROOT xxxx True False\n",
      "de de SCONJ SCONJ mark xx True True\n",
      "os o PRON PRON__Case=Acc|Gender=Masc|Number=Plur|Person=3|PronType=Prs obj xx True True\n",
      "elencar elencar VERB VERB__VerbForm=Inf xcomp xxxx True False\n",
      ", , PUNCT PUNCT punct , False False\n",
      "porque porque SCONJ SCONJ mark xxxx True True\n",
      "o o DET DET__Definite=Def|Gender=Masc|Number=Sing|PronType=Art det x True False\n",
      "Sr. Sr. NOUN NOUN__Gender=Masc|Number=Sing nsubj Xx. False False\n",
      "Deputado Deputado NOUN NOUN__Gender=Masc|Number=Sing flat:name Xxxxx True False\n",
      "também também ADV ADV advmod xxxx True True\n",
      "faz fazer VERB VERB__Mood=Ind|Number=Sing|Person=3|Tense=Pres|VerbForm=Fin advcl xxx True True\n",
      "parte partir NOUN NOUN__Gender=Fem|Number=Sing obj xxxx True True\n",
      "de de ADP ADP case xx True True\n",
      "uma umar DET DET__Definite=Ind|Gender=Fem|Number=Sing|PronType=Art det xxx True True\n",
      "solução solução NOUN NOUN__Gender=Fem|Number=Sing nmod xxxx True False\n",
      "de de ADP ADP case xx True True\n",
      "apoio apoiar NOUN NOUN__Gender=Masc|Number=Sing nmod xxxx True True\n",
      "a o ADP ADP case x True False\n",
      "um um DET DET__Definite=Ind|Gender=Masc|Number=Sing|PronType=Art det xx True True\n",
      "Governo Governo PROPN PROPN__Gender=Masc|Number=Sing nmod Xxxxx True False\n",
      "que que PRON PRON__Gender=Masc|Number=Sing|PronType=Rel nsubj xxx True True\n",
      "permitiu permitir VERB VERB__Mood=Ind|Number=Sing|Person=3|Tense=Past|VerbForm=Fin acl:relcl xxxx True False\n",
      "abrir abrir VERB VERB__VerbForm=Inf xcomp xxxx True False\n",
      "serviços serviço NOUN NOUN__Gender=Masc|Number=Plur obj xxxx True False\n",
      "públicos público ADJ ADJ__Gender=Masc|Number=Plur amod xxxx True False\n",
      "no o DET ADP_DET__Definite=Def|Gender=Masc|Number=Sing|PronType=Art case xx True True\n",
      "interior interior NOUN NOUN__Gender=Masc|Number=Sing obl xxxx True False\n",
      ". . PUNCT PUNCT punct . False False\n"
     ]
    }
   ],
   "source": [
    "doc = nlp(\"Sr. Presidente, passo a responder a este lote de três perguntas, as quais \\\n",
    "\\\n",
    "agradecemos, como é óbvio. \\\n",
    "\\\n",
    "Sr. Deputado José Luís Ferreira, obviamente que o Partido Socialista considera a agricultura familiar como \\\n",
    "\\\n",
    "um fator de desenvolvimento dos territórios de baixa densidade e olha para esta vertente da agricultura como \\\n",
    "\\\n",
    "aquela que é a mais genuína das formas de agricultura e que tem de ser, obviamente, valorizada no contexto \\\n",
    "\\\n",
    "do panorama nacional. \\\n",
    "\\\n",
    "Aplausos do PS. \\\n",
    "\\\n",
    "Sr. Deputado João Dias, se me permite, este é que é o ponto: não podemos colocar uma das questões que \\\n",
    "\\\n",
    "é para nós importante para desenvolver os territórios de baixa densidade como se fosse a única, só e ela mesma \\\n",
    "\\\n",
    "a responsável pelo desenvolvimento económico, porque há outras formas de agricultura, há outras formas de \\\n",
    "\\\n",
    "indústria, há outra capacidade produtiva que também tem de ser gerada no interior. Há sofisticação que tem \\\n",
    "\\\n",
    "ser gerada no interior, tem de ser potenciada no interior e não podemos olhar só para metade do caminho, \\\n",
    "\\\n",
    "porque, se só olharmos para metade do caminho, também defraudamos as expectativas dessas pessoas. \\\n",
    "\\\n",
    "Sr. Deputado: serviços públicos? Falemos dos serviços públicos que este Governo e o anterior reabriram. \\\n",
    "\\\n",
    "Não preciso de os elencar, porque o Sr. Deputado também faz parte de uma solução de apoio a um Governo \\\n",
    "\\\n",
    "que permitiu abrir serviços públicos no interior. \")\n",
    "\n",
    "print_entities(doc)\n",
    "print(\"*\"*10)\n",
    "print_tokens(doc)"
   ]
  },
  {
   "cell_type": "code",
   "execution_count": null,
   "metadata": {},
   "outputs": [],
   "source": []
  }
 ],
 "metadata": {
  "kernelspec": {
   "display_name": "Python 3",
   "language": "python",
   "name": "python3"
  },
  "language_info": {
   "codemirror_mode": {
    "name": "ipython",
    "version": 3
   },
   "file_extension": ".py",
   "mimetype": "text/x-python",
   "name": "python",
   "nbconvert_exporter": "python",
   "pygments_lexer": "ipython3",
   "version": "3.7.6"
  }
 },
 "nbformat": 4,
 "nbformat_minor": 4
}
