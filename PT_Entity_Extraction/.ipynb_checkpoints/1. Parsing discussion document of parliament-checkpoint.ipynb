{
 "cells": [
  {
   "cell_type": "markdown",
   "metadata": {},
   "source": [
    "Let's consider each intervention as a document, and therefore the corpus is the union of all interventions in a given session"
   ]
  },
  {
   "cell_type": "code",
   "execution_count": 141,
   "metadata": {},
   "outputs": [],
   "source": [
    "import re"
   ]
  },
  {
   "cell_type": "code",
   "execution_count": 3,
   "metadata": {},
   "outputs": [],
   "source": [
    "REGEX_TO_SPLIT_DOCUMENTS = \"(O|A)+\\s+Sr(\\.|\\.º|\\.ª)\\s+([A-zÀ-ú]|\\s*)+(\\(.*\\))?: —\""
   ]
  },
  {
   "cell_type": "code",
   "execution_count": 16,
   "metadata": {},
   "outputs": [
    {
     "name": "stdout",
     "output_type": "stream",
     "text": [
      "A Sr.ª Alexandra Viera (BE)\n",
      "A Sr.ª Bebiana Cunha (PAN)\n",
      "A Sr.ª Carla Madureira (PSD)\n",
      "A Sr.ª Catarina Rocha Ferreira (PSD)\n",
      "A Sr.ª Clarisse Campos (PS)\n",
      "A Sr.ª Cristina Mendes da Silva (PS)\n",
      "A Sr.ª Diana Ferreira (PCP)\n",
      "A Sr.ª Emília Cerqueira (PSD)\n",
      "A Sr.ª Fabíola Cardoso (BE)\n",
      "A Sr.ª Inês de Sousa Real (PAN)\n",
      "A Sr.ª Isabel Pires (BE)\n",
      "A Sr.ª Lina Lopes (PSD)\n",
      "A Sr.ª Mariana Silva (PEV)\n",
      "A Sr.ª Sandra Cunha (BE)\n",
      "A Sr.ª Secretária (Maria da Luz Rosinha)\n",
      "A Sr.ª Sofia Matos (PSD)\n",
      "O Sr. André Ventura (CH)\n",
      "O Sr. Bruno Dias (PCP)\n",
      "O Sr. Cristóvão Norte (PSD)\n",
      "O Sr. Duarte Alves (PCP)\n",
      "O Sr. Hugo Carvalho (PS)\n",
      "O Sr. Jerónimo de Sousa (PCP)\n",
      "O Sr. Jorge Costa (BE)\n",
      "O Sr. Jorge Salgueiro Mendes (PSD)\n",
      "O Sr. José Luís Ferreira (PEV)\n",
      "O Sr. José Moura Soeiro (BE)\n",
      "O Sr. João Cotrim de Figueiredo (IL)\n",
      "O Sr. João Dias (PCP)\n",
      "O Sr. João Gonçalves Pereira (CDS-PP)\n",
      "O Sr. João Oliveira (PCP)\n",
      "O Sr. João Pinho de Almeida (CDS-PP)\n",
      "O Sr. Nelson Basílio Silva (PAN)\n",
      "O Sr. Nuno Fazenda (PS)\n",
      "O Sr. Pedro do Carmo (PS)\n",
      "O Sr. Presidente\n",
      "O Sr. Presidente (José Manuel Pureza)\n",
      "O Sr. Ricardo Vicente (BE)\n",
      "O Sr. Tiago Barbosa Ribeiro (PS)\n",
      "38\n"
     ]
    }
   ],
   "source": [
    "# Get the entities\n",
    "\n",
    "deputies_and_president = set()\n",
    "\n",
    "with open(\"resources/example_of_parlamentar_discussion/darl14sl02n014.txt\") as file:\n",
    "    pattern = re.compile(REGEX_TO_SPLIT_DOCUMENTS)\n",
    "    for line in file:\n",
    "        match = pattern.search(line)\n",
    "        if match is not None:\n",
    "            deputies_and_president.add(match.group()[0:-3])\n",
    "\n",
    "for el in sorted(deputies_and_president):\n",
    "    print(el)\n",
    "print(len(deputies_and_president))"
   ]
  },
  {
   "cell_type": "code",
   "execution_count": 221,
   "metadata": {},
   "outputs": [],
   "source": [
    "# Associate documents to entity\n",
    "\n",
    "deputies_docs_unprocessed = {}\n",
    "documents_unprocessed_idx = {}\n",
    "documents_to_deputies = {}\n",
    "\n",
    "doc_idx = 0\n",
    "did_first_match = False\n",
    "\n",
    "with open(\"resources/example_of_parlamentar_discussion/darl14sl02n014.txt\") as file:\n",
    "    \n",
    "    first_line = next(file)\n",
    "    DATE_SECTION_REGEX = \"(?i)\\d+ de (\\w+) de \\d{4}\"\n",
    "    romanic_number = \"(?=[MDCLXVI])M*(C[MD]|D?C{0,3})(X[CL]|L?X{0,3})(I[XV]|V?I{0,3})\"\n",
    "    SERIES_SECTION_REGEX = romanic_number + \" (Série|SÉRIE) — (Número|NÚMERO) \\d{1,3}\"\n",
    "    \n",
    "    \n",
    "    pattern = re.compile(REGEX_TO_SPLIT_DOCUMENTS)\n",
    "    date_section_pattern = re.compile(DATE_SECTION_REGEX)\n",
    "    series_section_pattern = re.compile(SERIES_SECTION_REGEX)\n",
    "    numberic_pattern = re.compile(\"\\d+\")\n",
    "    \n",
    "    current_docs = \"\"\n",
    "    current_deputy = None\n",
    "    \n",
    "    for line in file:\n",
    "        date_section_match = date_section_pattern.search(line)\n",
    "        series_section_match = series_section_pattern.search(line)\n",
    "        if date_section_match is not None or series_section_match is not None:\n",
    "            #we are in a section, let's consume until a number appear\n",
    "            line_is_page_number = False\n",
    "            while not line_is_page_number:\n",
    "                #check if line is number\n",
    "                #if it is, then line_is_page_number = True\n",
    "                line = next(file)\n",
    "                numeric_match = numberic_pattern.search(line)\n",
    "                if numeric_match is not None:\n",
    "                    line_is_page_number = True\n",
    "                    line = next(file)\n",
    "        match = pattern.search(line)\n",
    "        if match is not None:\n",
    "            #a new document\n",
    "            #is this the first one? if it is, then we already consumed the summary section\n",
    "            if current_deputy is not None:\n",
    "                #save current document\n",
    "                documents_unprocessed_idx[doc_idx] = current_docs\n",
    "                if current_deputy not in deputies_docs_unprocessed:\n",
    "                    deputies_docs_unprocessed[current_deputy] = []\n",
    "                deputies_docs_unprocessed[current_deputy].append(doc_idx)\n",
    "                documents_to_deputies[doc_idx] = current_deputy\n",
    "                doc_idx += 1\n",
    "            #docs stored. start processing new one\n",
    "            current_deputy = match.group()[0:-3]\n",
    "            current_docs = line.replace(current_deputy, '')\n",
    "        else:\n",
    "            current_docs += line\n",
    "    if current_deputy is not None:\n",
    "                #save current document\n",
    "                documents_unprocessed_idx[doc_idx] = current_docs\n",
    "                if current_deputy not in deputies_docs_unprocessed:\n",
    "                    deputies_docs_unprocessed[current_deputy] = []\n",
    "                deputies_docs_unprocessed[current_deputy].append(doc_idx)\n",
    "                documents_to_deputies[doc_idx] = current_deputy\n",
    "                doc_idx += 1\n",
    "\n",
    "                "
   ]
  },
  {
   "cell_type": "code",
   "execution_count": null,
   "metadata": {},
   "outputs": [],
   "source": []
  }
 ],
 "metadata": {
  "kernelspec": {
   "display_name": "Python 3",
   "language": "python",
   "name": "python3"
  },
  "language_info": {
   "codemirror_mode": {
    "name": "ipython",
    "version": 3
   },
   "file_extension": ".py",
   "mimetype": "text/x-python",
   "name": "python",
   "nbconvert_exporter": "python",
   "pygments_lexer": "ipython3",
   "version": "3.7.6"
  }
 },
 "nbformat": 4,
 "nbformat_minor": 4
}
